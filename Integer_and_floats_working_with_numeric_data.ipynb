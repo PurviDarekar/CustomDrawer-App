{
  "nbformat": 4,
  "nbformat_minor": 0,
  "metadata": {
    "colab": {
      "provenance": [],
      "authorship_tag": "ABX9TyOUQPAVBVhK9DkQh8Y6wVlv",
      "include_colab_link": true
    },
    "kernelspec": {
      "name": "python3",
      "display_name": "Python 3"
    },
    "language_info": {
      "name": "python"
    }
  },
  "cells": [
    {
      "cell_type": "markdown",
      "metadata": {
        "id": "view-in-github",
        "colab_type": "text"
      },
      "source": [
        "<a href=\"https://colab.research.google.com/github/PurviDarekar/CustomDrawer-App/blob/master/Integer_and_floats_working_with_numeric_data.ipynb\" target=\"_parent\"><img src=\"https://colab.research.google.com/assets/colab-badge.svg\" alt=\"Open In Colab\"/></a>"
      ]
    },
    {
      "cell_type": "markdown",
      "source": [],
      "metadata": {
        "id": "1MYjoak0Sus8"
      }
    },
    {
      "cell_type": "markdown",
      "source": [
        "type funtion (built-in)"
      ],
      "metadata": {
        "id": "nimZ8xAeS1fv"
      }
    },
    {
      "cell_type": "code",
      "source": [
        "num = 3 \n",
        "num2 =3.14\n",
        "\n",
        "print(type(num))\n",
        "print(type(num2))"
      ],
      "metadata": {
        "colab": {
          "base_uri": "https://localhost:8080/"
        },
        "id": "QdaDDiyyS7Fq",
        "outputId": "a70fd69a-deb2-467a-fc17-c7c9307360fa"
      },
      "execution_count": 2,
      "outputs": [
        {
          "output_type": "stream",
          "name": "stdout",
          "text": [
            "<class 'int'>\n",
            "<class 'float'>\n"
          ]
        }
      ]
    },
    {
      "cell_type": "markdown",
      "source": [
        "**Arithmetic operator**\n",
        "\n",
        "\n",
        "1.   Addition       3 + 2\n",
        "2.   Substraction   3 - 2\n",
        "3.   Multiplication 3 * 2\n",
        "4.   Division       3 / 2\n",
        "5.   Floor Division 3 // 2\n",
        "6.   Exponent       3 ** 2\n",
        "7.   Modulus        3 % 2\n",
        "\n"
      ],
      "metadata": {
        "id": "jpdKj0veTX3R"
      }
    },
    {
      "cell_type": "code",
      "source": [
        "print (3+2)\n",
        "print (3-2)\n",
        "print (3*2)\n",
        "print (3/2)\n",
        "# floor division will not include the values which comes after the decimal\n",
        "print (3//2)\n",
        "#exponential it will give the exponent values of the first number like 3^2 = 9\n",
        "print (3**2)\n",
        "#modulas it will give the reminder of the division -use case to find even and odd\n",
        "print (3%2)\n",
        "print (4%2) # reminder is zero it means it is even"
      ],
      "metadata": {
        "colab": {
          "base_uri": "https://localhost:8080/"
        },
        "id": "LswVlc4ZTE6b",
        "outputId": "9e3f6d4f-ffa8-4a1a-bc9d-d38a08d025bc"
      },
      "execution_count": 5,
      "outputs": [
        {
          "output_type": "stream",
          "name": "stdout",
          "text": [
            "5\n",
            "1\n",
            "6\n",
            "1.5\n",
            "1\n",
            "9\n",
            "1\n",
            "0\n"
          ]
        }
      ]
    },
    {
      "cell_type": "markdown",
      "source": [
        "**Order of operations in Python**\n",
        "\n",
        "follows the standard mathematical rules, known as the \"PEMDAS\" rule, which stands for:\n",
        "\n",
        "1. Parentheses\n",
        "2. Exponents\n",
        "3. Multiplication and Division (from left to right)\n",
        "4. Addition and Subtraction (from left to right)"
      ],
      "metadata": {
        "id": "0_HlyTKkbAYk"
      }
    },
    {
      "cell_type": "markdown",
      "source": [
        "Increment"
      ],
      "metadata": {
        "id": "5g81oVoMcRxG"
      }
    },
    {
      "cell_type": "code",
      "source": [
        "num = 1\n",
        "\n",
        "num = num + 1\n",
        "#shorhand \n",
        "# num += 1\n",
        "print(num)"
      ],
      "metadata": {
        "colab": {
          "base_uri": "https://localhost:8080/"
        },
        "id": "1qGFcJ4yUY7B",
        "outputId": "e97dffc6-1c66-4cfa-bb53-c08e0db99275"
      },
      "execution_count": 6,
      "outputs": [
        {
          "output_type": "stream",
          "name": "stdout",
          "text": [
            "2\n"
          ]
        }
      ]
    },
    {
      "cell_type": "markdown",
      "source": [
        "absolute funtion "
      ],
      "metadata": {
        "id": "QvooXI5Denr1"
      }
    },
    {
      "cell_type": "code",
      "source": [
        "print(abs(-3))\n",
        "#it will remove the sign from the values"
      ],
      "metadata": {
        "colab": {
          "base_uri": "https://localhost:8080/"
        },
        "id": "OPBJT4SFcZfe",
        "outputId": "851ca2a1-8d9f-45a9-f13a-45920cff9f84"
      },
      "execution_count": 7,
      "outputs": [
        {
          "output_type": "stream",
          "name": "stdout",
          "text": [
            "3\n"
          ]
        }
      ]
    },
    {
      "cell_type": "markdown",
      "source": [
        "round function"
      ],
      "metadata": {
        "id": "VS-Wk2GCfAyg"
      }
    },
    {
      "cell_type": "code",
      "source": [
        "print(round(3.75))\n",
        "# it will return the round figure of the interger value\n",
        "print(round(3.75,1))\n",
        "#we can also dive extra argument it will provide roundfigure till that value"
      ],
      "metadata": {
        "colab": {
          "base_uri": "https://localhost:8080/"
        },
        "id": "jC6vAmk6e3Dc",
        "outputId": "92978a0d-fe59-4e1a-dd27-db1805ccb8e1"
      },
      "execution_count": 9,
      "outputs": [
        {
          "output_type": "stream",
          "name": "stdout",
          "text": [
            "4\n",
            "3.8\n"
          ]
        }
      ]
    },
    {
      "cell_type": "markdown",
      "source": [
        "**Comparison operator**\n",
        "1. Equal:  3 == 2\n",
        "2. Not Equal:  3 != 2\n",
        "3. Greater than:  3 > 2\n",
        "4. Less tham: 3 < 2\n",
        "5. Greater or Equal: 3 >= 2\n",
        "6. Less or Equal: 3 <= 2"
      ],
      "metadata": {
        "id": "7feGPdDkgm5P"
      }
    },
    {
      "cell_type": "code",
      "source": [
        "num_1 = 3\n",
        "num_2 = 2\n",
        "\n",
        "print(num_1 == num_2)\n",
        "print(num_1 != num_2)\n",
        "print(num_1 > num_2)\n",
        "print(num_1 < num_2)\n",
        "print(num_1 >= num_2)\n",
        "print(num_1 <= num_2)"
      ],
      "metadata": {
        "colab": {
          "base_uri": "https://localhost:8080/"
        },
        "id": "ddTp7M8ffOYh",
        "outputId": "0291cbca-bbfd-45b2-b1fa-ade766b62208"
      },
      "execution_count": 11,
      "outputs": [
        {
          "output_type": "stream",
          "name": "stdout",
          "text": [
            "False\n",
            "True\n",
            "True\n",
            "False\n",
            "True\n",
            "False\n"
          ]
        }
      ]
    },
    {
      "cell_type": "markdown",
      "source": [
        "Casting"
      ],
      "metadata": {
        "id": "w07c2XoXkNqR"
      }
    },
    {
      "cell_type": "code",
      "source": [
        "num_1 ='100'\n",
        "num_2 ='200'\n",
        "# here we want the string number to result 300 not 100200 which is string concatination\n",
        "\n",
        "# casted the string into the interger value\n",
        "\n",
        "num_1 = int(num_1)\n",
        "num_2 = int(num_2)\n",
        "print(num_1 + num_2)"
      ],
      "metadata": {
        "colab": {
          "base_uri": "https://localhost:8080/"
        },
        "id": "-4_Fzwo9itwc",
        "outputId": "7a8c95e6-97b0-4133-df81-0fb5c403d6f0"
      },
      "execution_count": 13,
      "outputs": [
        {
          "output_type": "stream",
          "name": "stdout",
          "text": [
            "300\n"
          ]
        }
      ]
    },
    {
      "cell_type": "code",
      "source": [],
      "metadata": {
        "id": "wPWQtL2ykMfj"
      },
      "execution_count": null,
      "outputs": []
    }
  ]
}